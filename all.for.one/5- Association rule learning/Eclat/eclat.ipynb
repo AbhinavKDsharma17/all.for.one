{
 "cells": [
  {
   "cell_type": "code",
   "execution_count": 1,
   "id": "91f6cc7c",
   "metadata": {},
   "outputs": [
    {
     "data": {
      "text/plain": [
       "'Eclat Algorithm:\\n\\nIdea:\\nThe Eclat (Equivalence Class Transformation) algorithm is an alternative to Apriori \\nthat uses a depth-first search approach to mine frequent itemsets. Instead of generating\\ncandidate itemsets, Eclat uses a vertical data format and focuses on intersecting \\ntransactions to find frequent itemsets.\\n\\nWorkflow:\\nTransform the dataset into a vertical format where each column represents an item and \\neach row lists transactions in which that item appears.\\nCreate an inverted index structure that records which transactions contain each item.\\nStart with individual items and recursively combine them to form larger itemsets.\\nCalculate the support for these itemsets by intersecting transaction lists.\\n\\nUses: \\nEclat is efficient for finding frequent itemsets in large datasets, making it suitable \\nfor various applications, including market basket analysis, web usage mining, and \\nrecommendation systems.'"
      ]
     },
     "execution_count": 1,
     "metadata": {},
     "output_type": "execute_result"
    }
   ],
   "source": [
    "'''Eclat Algorithm:\n",
    "\n",
    "Idea:\n",
    "The Eclat (Equivalence Class Transformation) algorithm is an alternative to Apriori \n",
    "that uses a depth-first search approach to mine frequent itemsets. Instead of generating\n",
    "candidate itemsets, Eclat uses a vertical data format and focuses on intersecting \n",
    "transactions to find frequent itemsets.\n",
    "\n",
    "Workflow:\n",
    "Transform the dataset into a vertical format where each column represents an item and \n",
    "each row lists transactions in which that item appears.\n",
    "Create an inverted index structure that records which transactions contain each item.\n",
    "Start with individual items and recursively combine them to form larger itemsets.\n",
    "Calculate the support for these itemsets by intersecting transaction lists.\n",
    "\n",
    "Uses: \n",
    "Eclat is efficient for finding frequent itemsets in large datasets, making it suitable \n",
    "for various applications, including market basket analysis, web usage mining, and \n",
    "recommendation systems.'''\n"
   ]
  },
  {
   "cell_type": "code",
   "execution_count": 12,
   "id": "bb1a8675",
   "metadata": {
    "scrolled": true
   },
   "outputs": [
    {
     "name": "stdout",
     "output_type": "stream",
     "text": [
      "Requirement already satisfied: mlxtend in /Users/abhinavsharma/anaconda3/lib/python3.10/site-packages (0.23.0)\n",
      "Requirement already satisfied: scipy>=1.2.1 in /Users/abhinavsharma/anaconda3/lib/python3.10/site-packages (from mlxtend) (1.11.3)\n",
      "Requirement already satisfied: numpy>=1.16.2 in /Users/abhinavsharma/anaconda3/lib/python3.10/site-packages (from mlxtend) (1.26.0)\n",
      "Requirement already satisfied: pandas>=0.24.2 in /Users/abhinavsharma/anaconda3/lib/python3.10/site-packages (from mlxtend) (2.1.1)\n",
      "Requirement already satisfied: scikit-learn>=1.0.2 in /Users/abhinavsharma/anaconda3/lib/python3.10/site-packages (from mlxtend) (1.3.1)\n",
      "Requirement already satisfied: matplotlib>=3.0.0 in /Users/abhinavsharma/anaconda3/lib/python3.10/site-packages (from mlxtend) (3.8.0)\n",
      "Requirement already satisfied: joblib>=0.13.2 in /Users/abhinavsharma/anaconda3/lib/python3.10/site-packages (from mlxtend) (1.3.2)\n",
      "Requirement already satisfied: contourpy>=1.0.1 in /Users/abhinavsharma/anaconda3/lib/python3.10/site-packages (from matplotlib>=3.0.0->mlxtend) (1.1.1)\n",
      "Requirement already satisfied: cycler>=0.10 in /Users/abhinavsharma/anaconda3/lib/python3.10/site-packages (from matplotlib>=3.0.0->mlxtend) (0.12.0)\n",
      "Requirement already satisfied: fonttools>=4.22.0 in /Users/abhinavsharma/anaconda3/lib/python3.10/site-packages (from matplotlib>=3.0.0->mlxtend) (4.42.1)\n",
      "Requirement already satisfied: kiwisolver>=1.0.1 in /Users/abhinavsharma/anaconda3/lib/python3.10/site-packages (from matplotlib>=3.0.0->mlxtend) (1.4.5)\n",
      "Requirement already satisfied: packaging>=20.0 in /Users/abhinavsharma/anaconda3/lib/python3.10/site-packages (from matplotlib>=3.0.0->mlxtend) (23.1)\n",
      "Requirement already satisfied: pillow>=6.2.0 in /Users/abhinavsharma/anaconda3/lib/python3.10/site-packages (from matplotlib>=3.0.0->mlxtend) (9.4.0)\n",
      "Requirement already satisfied: pyparsing>=2.3.1 in /Users/abhinavsharma/anaconda3/lib/python3.10/site-packages (from matplotlib>=3.0.0->mlxtend) (3.1.1)\n",
      "Requirement already satisfied: python-dateutil>=2.7 in /Users/abhinavsharma/anaconda3/lib/python3.10/site-packages (from matplotlib>=3.0.0->mlxtend) (2.8.2)\n",
      "Requirement already satisfied: pytz>=2020.1 in /Users/abhinavsharma/anaconda3/lib/python3.10/site-packages (from pandas>=0.24.2->mlxtend) (2022.7)\n",
      "Requirement already satisfied: tzdata>=2022.1 in /Users/abhinavsharma/anaconda3/lib/python3.10/site-packages (from pandas>=0.24.2->mlxtend) (2023.3)\n",
      "Requirement already satisfied: threadpoolctl>=2.0.0 in /Users/abhinavsharma/anaconda3/lib/python3.10/site-packages (from scikit-learn>=1.0.2->mlxtend) (3.2.0)\n",
      "Requirement already satisfied: six>=1.5 in /Users/abhinavsharma/anaconda3/lib/python3.10/site-packages (from python-dateutil>=2.7->matplotlib>=3.0.0->mlxtend) (1.16.0)\n",
      "Note: you may need to restart the kernel to use updated packages.\n"
     ]
    }
   ],
   "source": [
    "pip install mlxtend\n"
   ]
  },
  {
   "cell_type": "code",
   "execution_count": null,
   "id": "995b3fcb",
   "metadata": {},
   "outputs": [],
   "source": []
  }
 ],
 "metadata": {
  "kernelspec": {
   "display_name": "Python 3 (ipykernel)",
   "language": "python",
   "name": "python3"
  },
  "language_info": {
   "codemirror_mode": {
    "name": "ipython",
    "version": 3
   },
   "file_extension": ".py",
   "mimetype": "text/x-python",
   "name": "python",
   "nbconvert_exporter": "python",
   "pygments_lexer": "ipython3",
   "version": "3.10.13"
  }
 },
 "nbformat": 4,
 "nbformat_minor": 5
}
