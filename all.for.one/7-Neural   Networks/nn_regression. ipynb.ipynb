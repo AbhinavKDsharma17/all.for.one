{
 "cells": [
  {
   "cell_type": "code",
   "execution_count": 1,
   "id": "c6bb57ec",
   "metadata": {},
   "outputs": [],
   "source": [
    "import numpy as np\n",
    "import tensorflow as tf\n",
    "from tensorflow import keras\n",
    "from sklearn.model_selection import train_test_split\n",
    "import matplotlib.pyplot as plt\n"
   ]
  },
  {
   "cell_type": "code",
   "execution_count": 2,
   "id": "ca505973",
   "metadata": {},
   "outputs": [],
   "source": [
    "# Generate synthetic data\n",
    "np.random.seed(0)\n",
    "X = np.linspace(0, 10, 100)  # Input feature (e.g., time)\n",
    "y = 2 * X + 1 + np.random.normal(0, 1, 100)  # Target variable with some noise\n"
   ]
  },
  {
   "cell_type": "code",
   "execution_count": 3,
   "id": "32dddf6e",
   "metadata": {},
   "outputs": [
    {
     "data": {
      "text/plain": [
       "'Here, we generate synthetic data:\\nnp.random.seed(0) sets a random seed for reproducibility.\\nX is a synthetic input feature generated as a linearly spaced array from 0 to 10 \\nwith 100 data points.\\ny is the target variable generated as 2*X + 1 with added random noise using\\nnp.random.normal. This simulates a linear relationship with some noise.'"
      ]
     },
     "execution_count": 3,
     "metadata": {},
     "output_type": "execute_result"
    }
   ],
   "source": [
    "'''Here, we generate synthetic data:\n",
    "np.random.seed(0) sets a random seed for reproducibility.\n",
    "X is a synthetic input feature generated as a linearly spaced array from 0 to 10 \n",
    "with 100 data points.\n",
    "y is the target variable generated as 2*X + 1 with added random noise using\n",
    "np.random.normal. This simulates a linear relationship with some noise.'''"
   ]
  },
  {
   "cell_type": "code",
   "execution_count": 4,
   "id": "2bfe9898",
   "metadata": {},
   "outputs": [],
   "source": [
    "# Split the data into training and test sets\n",
    "X_train, X_test, y_train, y_test = train_test_split(X, y, test_size=0.2, random_state=42)\n"
   ]
  },
  {
   "cell_type": "code",
   "execution_count": 5,
   "id": "5f353d5f",
   "metadata": {},
   "outputs": [
    {
     "data": {
      "text/plain": [
       "'This block splits the generated data into training and test sets:\\ntrain_test_split divides the data into training and test sets, with 80%\\nfor training and 20% for testing.\\nrandom_state=42 sets a random seed for reproducibility.'"
      ]
     },
     "execution_count": 5,
     "metadata": {},
     "output_type": "execute_result"
    }
   ],
   "source": [
    "'''This block splits the generated data into training and test sets:\n",
    "train_test_split divides the data into training and test sets, with 80%\n",
    "for training and 20% for testing.\n",
    "random_state=42 sets a random seed for reproducibility.'''"
   ]
  },
  {
   "cell_type": "code",
   "execution_count": 6,
   "id": "0aa70b71",
   "metadata": {},
   "outputs": [],
   "source": [
    "# Define the neural network architecture\n",
    "model = keras.Sequential([\n",
    "    keras.layers.Dense(20, activation='relu', input_shape=(1,)),\n",
    "    keras.layers.Dense(1)  # Output layer with 1 neuron for regression\n",
    "])\n"
   ]
  },
  {
   "cell_type": "code",
   "execution_count": 7,
   "id": "c1ccc2f9",
   "metadata": {},
   "outputs": [
    {
     "data": {
      "text/plain": [
       "'In this part, we define the neural network architecture using Keras:\\nkeras.Sequential initializes a sequential model, which is a linear stack of layers.\\nWe define a dense (fully connected) hidden layer with 10 neurons and ReLU activation.\\nThe input_shape=(1,) specifies that the input data has one feature.\\nWe add an output layer with a single neuron for regression tasks.'"
      ]
     },
     "execution_count": 7,
     "metadata": {},
     "output_type": "execute_result"
    }
   ],
   "source": [
    "'''In this part, we define the neural network architecture using Keras:\n",
    "keras.Sequential initializes a sequential model, which is a linear stack of layers.\n",
    "We define a dense (fully connected) hidden layer with 20 neurons and ReLU activation.\n",
    "The input_shape=(1,) specifies that the input data has one feature.\n",
    "We add an output layer with a single neuron for regression tasks.'''"
   ]
  },
  {
   "cell_type": "code",
   "execution_count": 8,
   "id": "ffa61a35",
   "metadata": {},
   "outputs": [],
   "source": [
    "# Compile the model\n",
    "model.compile(optimizer='adam', loss='mean_squared_error')\n"
   ]
  },
  {
   "cell_type": "code",
   "execution_count": 9,
   "id": "332e4491",
   "metadata": {},
   "outputs": [
    {
     "data": {
      "text/plain": [
       "\"This block compiles the neural network:\\nWe specify the optimizer as 'adam', a popular optimization algorithm.\\nWe set the loss function to 'mean_squared_error', which is suitable for \\nregression tasks. It measures the mean squared difference between predicted \\nand actual values.\""
      ]
     },
     "execution_count": 9,
     "metadata": {},
     "output_type": "execute_result"
    }
   ],
   "source": [
    "'''This block compiles the neural network:\n",
    "We specify the optimizer as 'adam', a popular optimization algorithm.\n",
    "We set the loss function to 'mean_squared_error', which is suitable for \n",
    "regression tasks. It measures the mean squared difference between predicted \n",
    "and actual values.'''"
   ]
  },
  {
   "cell_type": "code",
   "execution_count": 10,
   "id": "d2804745",
   "metadata": {},
   "outputs": [
    {
     "name": "stdout",
     "output_type": "stream",
     "text": [
      "Epoch 1/100\n",
      "5/5 [==============================] - 0s 16ms/step - loss: 149.8676 - val_loss: 190.7236\n",
      "Epoch 2/100\n",
      "5/5 [==============================] - 0s 3ms/step - loss: 146.4485 - val_loss: 186.4798\n",
      "Epoch 3/100\n",
      "5/5 [==============================] - 0s 3ms/step - loss: 143.1510 - val_loss: 182.2632\n",
      "Epoch 4/100\n",
      "5/5 [==============================] - 0s 3ms/step - loss: 139.8392 - val_loss: 178.0830\n",
      "Epoch 5/100\n",
      "5/5 [==============================] - 0s 3ms/step - loss: 136.7332 - val_loss: 173.9205\n",
      "Epoch 6/100\n",
      "5/5 [==============================] - 0s 3ms/step - loss: 133.4209 - val_loss: 169.8651\n",
      "Epoch 7/100\n",
      "5/5 [==============================] - 0s 3ms/step - loss: 130.2587 - val_loss: 165.8735\n",
      "Epoch 8/100\n",
      "5/5 [==============================] - 0s 3ms/step - loss: 127.2038 - val_loss: 161.9129\n",
      "Epoch 9/100\n",
      "5/5 [==============================] - 0s 3ms/step - loss: 124.1347 - val_loss: 158.0268\n",
      "Epoch 10/100\n",
      "5/5 [==============================] - 0s 3ms/step - loss: 121.1379 - val_loss: 154.1548\n",
      "Epoch 11/100\n",
      "5/5 [==============================] - 0s 3ms/step - loss: 118.2428 - val_loss: 150.3231\n",
      "Epoch 12/100\n",
      "5/5 [==============================] - 0s 3ms/step - loss: 115.2346 - val_loss: 146.6086\n",
      "Epoch 13/100\n",
      "5/5 [==============================] - 0s 3ms/step - loss: 112.3015 - val_loss: 142.9495\n",
      "Epoch 14/100\n",
      "5/5 [==============================] - 0s 3ms/step - loss: 109.5775 - val_loss: 139.2555\n",
      "Epoch 15/100\n",
      "5/5 [==============================] - 0s 3ms/step - loss: 106.5981 - val_loss: 135.6573\n",
      "Epoch 16/100\n",
      "5/5 [==============================] - 0s 3ms/step - loss: 103.9145 - val_loss: 132.0115\n",
      "Epoch 17/100\n",
      "5/5 [==============================] - 0s 3ms/step - loss: 101.0598 - val_loss: 128.4306\n",
      "Epoch 18/100\n",
      "5/5 [==============================] - 0s 3ms/step - loss: 98.2096 - val_loss: 124.9429\n",
      "Epoch 19/100\n",
      "5/5 [==============================] - 0s 3ms/step - loss: 95.5373 - val_loss: 121.4317\n",
      "Epoch 20/100\n",
      "5/5 [==============================] - 0s 3ms/step - loss: 92.9056 - val_loss: 117.8942\n",
      "Epoch 21/100\n",
      "5/5 [==============================] - 0s 3ms/step - loss: 90.0868 - val_loss: 114.4610\n",
      "Epoch 22/100\n",
      "5/5 [==============================] - 0s 3ms/step - loss: 87.4715 - val_loss: 111.0301\n",
      "Epoch 23/100\n",
      "5/5 [==============================] - 0s 3ms/step - loss: 84.7993 - val_loss: 107.6556\n",
      "Epoch 24/100\n",
      "5/5 [==============================] - 0s 3ms/step - loss: 82.2355 - val_loss: 104.2440\n",
      "Epoch 25/100\n",
      "5/5 [==============================] - 0s 3ms/step - loss: 79.6148 - val_loss: 100.9239\n",
      "Epoch 26/100\n",
      "5/5 [==============================] - 0s 3ms/step - loss: 77.0020 - val_loss: 97.6413\n",
      "Epoch 27/100\n",
      "5/5 [==============================] - 0s 3ms/step - loss: 74.3922 - val_loss: 94.3952\n",
      "Epoch 28/100\n",
      "5/5 [==============================] - 0s 3ms/step - loss: 71.8970 - val_loss: 91.1291\n",
      "Epoch 29/100\n",
      "5/5 [==============================] - 0s 3ms/step - loss: 69.3037 - val_loss: 87.8875\n",
      "Epoch 30/100\n",
      "5/5 [==============================] - 0s 3ms/step - loss: 66.8941 - val_loss: 84.5951\n",
      "Epoch 31/100\n",
      "5/5 [==============================] - 0s 3ms/step - loss: 64.2313 - val_loss: 81.4242\n",
      "Epoch 32/100\n",
      "5/5 [==============================] - 0s 5ms/step - loss: 61.7804 - val_loss: 78.1937\n",
      "Epoch 33/100\n",
      "5/5 [==============================] - 0s 3ms/step - loss: 59.3118 - val_loss: 75.0190\n",
      "Epoch 34/100\n",
      "5/5 [==============================] - 0s 3ms/step - loss: 56.8098 - val_loss: 71.9379\n",
      "Epoch 35/100\n",
      "5/5 [==============================] - 0s 3ms/step - loss: 54.5035 - val_loss: 68.8781\n",
      "Epoch 36/100\n",
      "5/5 [==============================] - 0s 3ms/step - loss: 52.0811 - val_loss: 65.9086\n",
      "Epoch 37/100\n",
      "5/5 [==============================] - 0s 3ms/step - loss: 49.7894 - val_loss: 62.9078\n",
      "Epoch 38/100\n",
      "5/5 [==============================] - 0s 3ms/step - loss: 47.4948 - val_loss: 59.9346\n",
      "Epoch 39/100\n",
      "5/5 [==============================] - 0s 3ms/step - loss: 45.1763 - val_loss: 57.0711\n",
      "Epoch 40/100\n",
      "5/5 [==============================] - 0s 3ms/step - loss: 43.1212 - val_loss: 54.2564\n",
      "Epoch 41/100\n",
      "5/5 [==============================] - 0s 3ms/step - loss: 40.8867 - val_loss: 51.6385\n",
      "Epoch 42/100\n",
      "5/5 [==============================] - 0s 3ms/step - loss: 38.9172 - val_loss: 49.0366\n",
      "Epoch 43/100\n",
      "5/5 [==============================] - 0s 3ms/step - loss: 36.9702 - val_loss: 46.4999\n",
      "Epoch 44/100\n",
      "5/5 [==============================] - 0s 3ms/step - loss: 34.9911 - val_loss: 44.0615\n",
      "Epoch 45/100\n",
      "5/5 [==============================] - 0s 3ms/step - loss: 33.1213 - val_loss: 41.6956\n",
      "Epoch 46/100\n",
      "5/5 [==============================] - 0s 3ms/step - loss: 31.3378 - val_loss: 39.3772\n",
      "Epoch 47/100\n",
      "5/5 [==============================] - 0s 3ms/step - loss: 29.4573 - val_loss: 37.1691\n",
      "Epoch 48/100\n",
      "5/5 [==============================] - 0s 3ms/step - loss: 27.8602 - val_loss: 34.9377\n",
      "Epoch 49/100\n",
      "5/5 [==============================] - 0s 3ms/step - loss: 26.1630 - val_loss: 32.8275\n",
      "Epoch 50/100\n",
      "5/5 [==============================] - 0s 3ms/step - loss: 24.5054 - val_loss: 30.8246\n",
      "Epoch 51/100\n",
      "5/5 [==============================] - 0s 3ms/step - loss: 23.0007 - val_loss: 28.8518\n",
      "Epoch 52/100\n",
      "5/5 [==============================] - 0s 3ms/step - loss: 21.3977 - val_loss: 27.0285\n",
      "Epoch 53/100\n",
      "5/5 [==============================] - 0s 3ms/step - loss: 20.0537 - val_loss: 25.2021\n",
      "Epoch 54/100\n",
      "5/5 [==============================] - 0s 3ms/step - loss: 18.7430 - val_loss: 23.3986\n",
      "Epoch 55/100\n",
      "5/5 [==============================] - 0s 3ms/step - loss: 17.3661 - val_loss: 21.7631\n",
      "Epoch 56/100\n",
      "5/5 [==============================] - 0s 3ms/step - loss: 16.0914 - val_loss: 20.2446\n",
      "Epoch 57/100\n",
      "5/5 [==============================] - 0s 3ms/step - loss: 14.8756 - val_loss: 18.7969\n",
      "Epoch 58/100\n",
      "5/5 [==============================] - 0s 3ms/step - loss: 13.8234 - val_loss: 17.3502\n",
      "Epoch 59/100\n",
      "5/5 [==============================] - 0s 3ms/step - loss: 12.7389 - val_loss: 15.9875\n",
      "Epoch 60/100\n",
      "5/5 [==============================] - 0s 3ms/step - loss: 11.6753 - val_loss: 14.7354\n",
      "Epoch 61/100\n",
      "5/5 [==============================] - 0s 3ms/step - loss: 10.7752 - val_loss: 13.5256\n",
      "Epoch 62/100\n",
      "5/5 [==============================] - 0s 3ms/step - loss: 9.8732 - val_loss: 12.3986\n",
      "Epoch 63/100\n",
      "5/5 [==============================] - 0s 3ms/step - loss: 9.0410 - val_loss: 11.3544\n",
      "Epoch 64/100\n",
      "5/5 [==============================] - 0s 3ms/step - loss: 8.2707 - val_loss: 10.3943\n",
      "Epoch 65/100\n",
      "5/5 [==============================] - 0s 3ms/step - loss: 7.5345 - val_loss: 9.5139\n",
      "Epoch 66/100\n",
      "5/5 [==============================] - 0s 3ms/step - loss: 6.8865 - val_loss: 8.6855\n",
      "Epoch 67/100\n",
      "5/5 [==============================] - 0s 3ms/step - loss: 6.2850 - val_loss: 7.9206\n",
      "Epoch 68/100\n",
      "5/5 [==============================] - 0s 3ms/step - loss: 5.6891 - val_loss: 7.2460\n",
      "Epoch 69/100\n",
      "5/5 [==============================] - 0s 3ms/step - loss: 5.1981 - val_loss: 6.6074\n",
      "Epoch 70/100\n",
      "5/5 [==============================] - 0s 3ms/step - loss: 4.7430 - val_loss: 6.0205\n",
      "Epoch 71/100\n",
      "5/5 [==============================] - 0s 3ms/step - loss: 4.3300 - val_loss: 5.4816\n",
      "Epoch 72/100\n",
      "5/5 [==============================] - 0s 3ms/step - loss: 3.9078 - val_loss: 5.0156\n",
      "Epoch 73/100\n",
      "5/5 [==============================] - 0s 3ms/step - loss: 3.5796 - val_loss: 4.5836\n",
      "Epoch 74/100\n",
      "5/5 [==============================] - 0s 3ms/step - loss: 3.2540 - val_loss: 4.1953\n",
      "Epoch 75/100\n",
      "5/5 [==============================] - 0s 3ms/step - loss: 2.9769 - val_loss: 3.8372\n",
      "Epoch 76/100\n",
      "5/5 [==============================] - 0s 3ms/step - loss: 2.7158 - val_loss: 3.5214\n",
      "Epoch 77/100\n",
      "5/5 [==============================] - 0s 3ms/step - loss: 2.4892 - val_loss: 3.2393\n",
      "Epoch 78/100\n",
      "5/5 [==============================] - 0s 3ms/step - loss: 2.2794 - val_loss: 2.9893\n",
      "Epoch 79/100\n",
      "5/5 [==============================] - 0s 3ms/step - loss: 2.1071 - val_loss: 2.7599\n",
      "Epoch 80/100\n",
      "5/5 [==============================] - 0s 3ms/step - loss: 1.9561 - val_loss: 2.5537\n",
      "Epoch 81/100\n",
      "5/5 [==============================] - 0s 3ms/step - loss: 1.8117 - val_loss: 2.3803\n",
      "Epoch 82/100\n",
      "5/5 [==============================] - 0s 3ms/step - loss: 1.6815 - val_loss: 2.2377\n"
     ]
    },
    {
     "name": "stdout",
     "output_type": "stream",
     "text": [
      "Epoch 83/100\n",
      "5/5 [==============================] - 0s 3ms/step - loss: 1.5869 - val_loss: 2.1065\n",
      "Epoch 84/100\n",
      "5/5 [==============================] - 0s 3ms/step - loss: 1.4923 - val_loss: 1.9940\n",
      "Epoch 85/100\n",
      "5/5 [==============================] - 0s 3ms/step - loss: 1.4157 - val_loss: 1.8948\n",
      "Epoch 86/100\n",
      "5/5 [==============================] - 0s 3ms/step - loss: 1.3490 - val_loss: 1.8076\n",
      "Epoch 87/100\n",
      "5/5 [==============================] - 0s 3ms/step - loss: 1.2939 - val_loss: 1.7326\n",
      "Epoch 88/100\n",
      "5/5 [==============================] - 0s 3ms/step - loss: 1.2424 - val_loss: 1.6688\n",
      "Epoch 89/100\n",
      "5/5 [==============================] - 0s 3ms/step - loss: 1.2043 - val_loss: 1.6128\n",
      "Epoch 90/100\n",
      "5/5 [==============================] - 0s 3ms/step - loss: 1.1655 - val_loss: 1.5678\n",
      "Epoch 91/100\n",
      "5/5 [==============================] - 0s 3ms/step - loss: 1.1388 - val_loss: 1.5265\n",
      "Epoch 92/100\n",
      "5/5 [==============================] - 0s 3ms/step - loss: 1.1140 - val_loss: 1.4920\n",
      "Epoch 93/100\n",
      "5/5 [==============================] - 0s 3ms/step - loss: 1.0939 - val_loss: 1.4633\n",
      "Epoch 94/100\n",
      "5/5 [==============================] - 0s 3ms/step - loss: 1.0785 - val_loss: 1.4392\n",
      "Epoch 95/100\n",
      "5/5 [==============================] - 0s 3ms/step - loss: 1.0629 - val_loss: 1.4210\n",
      "Epoch 96/100\n",
      "5/5 [==============================] - 0s 3ms/step - loss: 1.0519 - val_loss: 1.4053\n",
      "Epoch 97/100\n",
      "5/5 [==============================] - 0s 3ms/step - loss: 1.0447 - val_loss: 1.3910\n",
      "Epoch 98/100\n",
      "5/5 [==============================] - 0s 3ms/step - loss: 1.0352 - val_loss: 1.3805\n",
      "Epoch 99/100\n",
      "5/5 [==============================] - 0s 3ms/step - loss: 1.0299 - val_loss: 1.3709\n",
      "Epoch 100/100\n",
      "5/5 [==============================] - 0s 3ms/step - loss: 1.0245 - val_loss: 1.3627\n"
     ]
    }
   ],
   "source": [
    "# Train the model\n",
    "history = model.fit(X_train, y_train, epochs=100, batch_size=16, validation_split=0.1)\n"
   ]
  },
  {
   "cell_type": "code",
   "execution_count": 11,
   "id": "d560b32c",
   "metadata": {},
   "outputs": [
    {
     "data": {
      "text/plain": [
       "\"Here, we train the neural network:\\nWe use the fit method to train the model on the training data (X_train and y_train).\\nWe specify 100 epochs (iterations over the training data) and a batch size of 16 \\n(the number of samples used in each update of the model's parameters).\\nAdditionally, we use a 10% validation split to monitor the model's performance\\nduring training.\""
      ]
     },
     "execution_count": 11,
     "metadata": {},
     "output_type": "execute_result"
    }
   ],
   "source": [
    "'''Here, we train the neural network:\n",
    "We use the fit method to train the model on the training data (X_train and y_train).\n",
    "We specify 100 epochs (iterations over the training data) and a batch size of 16 \n",
    "(the number of samples used in each update of the model's parameters).\n",
    "Additionally, we use a 10% validation split to monitor the model's performance\n",
    "during training.'''\n"
   ]
  },
  {
   "cell_type": "code",
   "execution_count": 12,
   "id": "3548a585",
   "metadata": {},
   "outputs": [
    {
     "name": "stdout",
     "output_type": "stream",
     "text": [
      "1/1 [==============================] - 0s 9ms/step - loss: 0.8766\n",
      "Test Loss: 0.8765981793403625\n"
     ]
    }
   ],
   "source": [
    "# Evaluate the model on the test set\n",
    "loss = model.evaluate(X_test, y_test)\n",
    "print(\"Test Loss:\", loss)\n"
   ]
  },
  {
   "cell_type": "code",
   "execution_count": 13,
   "id": "5e08d112",
   "metadata": {},
   "outputs": [
    {
     "data": {
      "text/plain": [
       "'In this section, we evaluate the trained model on the test set:\\nThe evaluate method calculates the loss on the test data.\\nWe print the test loss to assess how well the model performs on unseen data.'"
      ]
     },
     "execution_count": 13,
     "metadata": {},
     "output_type": "execute_result"
    }
   ],
   "source": [
    "'''In this section, we evaluate the trained model on the test set:\n",
    "The evaluate method calculates the loss on the test data.\n",
    "We print the test loss to assess how well the model performs on unseen data.'''"
   ]
  },
  {
   "cell_type": "code",
   "execution_count": 14,
   "id": "faa66784",
   "metadata": {},
   "outputs": [
    {
     "name": "stdout",
     "output_type": "stream",
     "text": [
      "1/1 [==============================] - 0s 30ms/step\n"
     ]
    }
   ],
   "source": [
    "# Make predictions\n",
    "y_pred = model.predict(X_test)\n"
   ]
  },
  {
   "cell_type": "code",
   "execution_count": 15,
   "id": "cd44cba8",
   "metadata": {},
   "outputs": [
    {
     "data": {
      "text/plain": [
       "'We use the trained model to make predictions on the test data with the \\npredict method. y_pred now contains the predicted values.'"
      ]
     },
     "execution_count": 15,
     "metadata": {},
     "output_type": "execute_result"
    }
   ],
   "source": [
    "'''We use the trained model to make predictions on the test data with the \n",
    "predict method. y_pred now contains the predicted values.'''"
   ]
  },
  {
   "cell_type": "code",
   "execution_count": 16,
   "id": "b1dd652f",
   "metadata": {},
   "outputs": [
    {
     "data": {
      "image/png": "[encoded data removed]",
      "text/plain": [
       "<Figure size 1000x500 with 1 Axes>"
      ]
     },
     "metadata": {},
     "output_type": "display_data"
    }
   ],
   "source": [
    "# Plot the results\n",
    "plt.figure(figsize=(10, 5))\n",
    "plt.scatter(X_test, y_test, label=\"Actual Data\", color='blue')\n",
    "plt.plot(X_test, y_pred, label=\"Predicted Data\", color='red')\n",
    "plt.xlabel(\"Input\")\n",
    "plt.ylabel(\"Output\")\n",
    "plt.legend()\n",
    "plt.show()\n"
   ]
  },
  {
   "cell_type": "code",
   "execution_count": 17,
   "id": "532aa752",
   "metadata": {},
   "outputs": [
    {
     "name": "stdout",
     "output_type": "stream",
     "text": [
      "[ 0.          0.1010101   0.2020202   0.3030303   0.4040404   0.50505051\n",
      "  0.60606061  0.70707071  0.80808081  0.90909091  1.01010101  1.11111111\n",
      "  1.21212121  1.31313131  1.41414141  1.51515152  1.61616162  1.71717172\n",
      "  1.81818182  1.91919192  2.02020202  2.12121212  2.22222222  2.32323232\n",
      "  2.42424242  2.52525253  2.62626263  2.72727273  2.82828283  2.92929293\n",
      "  3.03030303  3.13131313  3.23232323  3.33333333  3.43434343  3.53535354\n",
      "  3.63636364  3.73737374  3.83838384  3.93939394  4.04040404  4.14141414\n",
      "  4.24242424  4.34343434  4.44444444  4.54545455  4.64646465  4.74747475\n",
      "  4.84848485  4.94949495  5.05050505  5.15151515  5.25252525  5.35353535\n",
      "  5.45454545  5.55555556  5.65656566  5.75757576  5.85858586  5.95959596\n",
      "  6.06060606  6.16161616  6.26262626  6.36363636  6.46464646  6.56565657\n",
      "  6.66666667  6.76767677  6.86868687  6.96969697  7.07070707  7.17171717\n",
      "  7.27272727  7.37373737  7.47474747  7.57575758  7.67676768  7.77777778\n",
      "  7.87878788  7.97979798  8.08080808  8.18181818  8.28282828  8.38383838\n",
      "  8.48484848  8.58585859  8.68686869  8.78787879  8.88888889  8.98989899\n",
      "  9.09090909  9.19191919  9.29292929  9.39393939  9.49494949  9.5959596\n",
      "  9.6969697   9.7979798   9.8989899  10.        ]\n"
     ]
    }
   ],
   "source": [
    "print(X)"
   ]
  },
  {
   "cell_type": "code",
   "execution_count": 18,
   "id": "c639dbdb",
   "metadata": {},
   "outputs": [
    {
     "name": "stdout",
     "output_type": "stream",
     "text": [
      "[ 2.76405235  1.60217741  2.38277839  3.84695381  3.6756388   1.03282313\n",
      "  3.16220963  2.26278421  2.51294276  3.22878032  3.16424559  4.67649573\n",
      "  4.18528015  3.74793764  4.27214606  4.36397736  5.72640231  4.22918517\n",
      "  4.94943134  3.9842881   2.48741422  5.89604284  6.30888064  4.90429963\n",
      "  8.11823947  4.59613938  6.29828377  6.2673616   8.18934487  8.32794463\n",
      "  7.21555349  7.64078878  6.57686072  5.6858702   7.52077472  8.22705604\n",
      "  9.50301795  9.67712732  8.28944086  8.57648513  8.03225512  7.86281035\n",
      "  7.77857829 11.63764408  9.37923671  9.65283479  9.04013393 11.27243985\n",
      "  9.08307185 10.68624962 10.20554354 11.6899328  10.99424537 10.52643852\n",
      " 11.88090868 12.53944298 12.37964854 12.81762341 12.08284962 12.55645075\n",
      " 12.44875167 12.96367916 12.71210624 12.00099012 14.10671907 13.7295322\n",
      " 12.70313499 14.99813579 13.83007537 14.99133934 15.8705047  15.47241725\n",
      " 16.68485523 14.51264893 16.35183659 15.46670506 15.4827382  15.97670589\n",
      " 16.44602323 17.0157613  15.99646632 18.26446285 18.03131901 16.23143308\n",
      " 19.45794916 20.06760635 19.55251694 18.39583274 17.70702516 20.03424971\n",
      " 18.77864123 20.60628345 19.79413356 20.76451782 20.34626539 20.89849236\n",
      " 20.40443941 22.38183009 20.92489189 21.40198936]\n"
     ]
    }
   ],
   "source": [
    "print(y)"
   ]
  },
  {
   "cell_type": "code",
   "execution_count": null,
   "id": "6c9e8615",
   "metadata": {},
   "outputs": [],
   "source": []
  }
 ],
 "metadata": {
  "kernelspec": {
   "display_name": "Python 3 (ipykernel)",
   "language": "python",
   "name": "python3"
  },
  "language_info": {
   "codemirror_mode": {
    "name": "ipython",
    "version": 3
   },
   "file_extension": ".py",
   "mimetype": "text/x-python",
   "name": "python",
   "nbconvert_exporter": "python",
   "pygments_lexer": "ipython3",
   "version": "3.10.13"
  }
 },
 "nbformat": 4,
 "nbformat_minor": 5
}
