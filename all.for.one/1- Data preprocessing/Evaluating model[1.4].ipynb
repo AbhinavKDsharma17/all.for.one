{
 "cells": [
  {
   "cell_type": "code",
   "execution_count": 1,
   "id": "0dcc6c5e",
   "metadata": {},
   "outputs": [
    {
     "name": "stdout",
     "output_type": "stream",
     "text": [
      "Classification Metrics:\n",
      "Accuracy: 0.90\n",
      "Precision: 1.00\n",
      "Recall: 0.83\n",
      "F1 Score: 0.91\n",
      "\n",
      "Regression Metrics:\n",
      "Mean Absolute Error (MAE): 0.26\n",
      "Mean Squared Error (MSE): 0.09\n",
      "Root Mean Squared Error (RMSE): 0.29\n",
      "R-squared (R^2): 0.96\n"
     ]
    }
   ],
   "source": [
    "from sklearn.metrics import accuracy_score, precision_score, recall_score, f1_score\n",
    "from sklearn.metrics import mean_absolute_error, mean_squared_error, r2_score\n",
    "import numpy as np\n",
    "\n",
    "# Example classification predictions and ground truth\n",
    "y_true_classification = np.array([0, 1, 1, 0, 1, 0, 1, 0, 1, 1])\n",
    "y_pred_classification = np.array([0, 1, 1, 0, 1, 0, 1, 0, 0, 1])\n",
    "\n",
    "# Calculate classification metrics\n",
    "accuracy = accuracy_score(y_true_classification, y_pred_classification)\n",
    "precision = precision_score(y_true_classification, y_pred_classification)\n",
    "recall = recall_score(y_true_classification, y_pred_classification)\n",
    "f1 = f1_score(y_true_classification, y_pred_classification)\n",
    "\n",
    "print(\"Classification Metrics:\")\n",
    "print(f\"Accuracy: {accuracy:.2f}\")\n",
    "print(f\"Precision: {precision:.2f}\")\n",
    "print(f\"Recall: {recall:.2f}\")\n",
    "print(f\"F1 Score: {f1:.2f}\")\n",
    "\n",
    "# Example regression predictions and ground truth\n",
    "y_true_regression = np.array([2.0, 3.0, 4.0, 5.0, 6.0])\n",
    "y_pred_regression = np.array([2.5, 3.2, 4.1, 5.3, 5.8])\n",
    "\n",
    "# Calculate regression metrics\n",
    "mae = mean_absolute_error(y_true_regression, y_pred_regression)\n",
    "mse = mean_squared_error(y_true_regression, y_pred_regression)\n",
    "rmse = np.sqrt(mse)\n",
    "r2 = r2_score(y_true_regression, y_pred_regression)\n",
    "\n",
    "print(\"\\nRegression Metrics:\")\n",
    "print(f\"Mean Absolute Error (MAE): {mae:.2f}\")\n",
    "print(f\"Mean Squared Error (MSE): {mse:.2f}\")\n",
    "print(f\"Root Mean Squared Error (RMSE): {rmse:.2f}\")\n",
    "print(f\"R-squared (R^2): {r2:.2f}\")\n"
   ]
  },
  {
   "cell_type": "code",
   "execution_count": 3,
   "id": "e9cf2d0f",
   "metadata": {},
   "outputs": [
    {
     "data": {
      "text/plain": [
       "'In this code:\\n\\nFor classification, we calculate accuracy, precision, recall\\n, and F1 score using functions from sklearn.metrics.\\n\\nFor regression, we calculate mean absolute error (MAE),\\nmean squared error (MSE), root mean squared error (RMSE),\\nand R-squared (R^2) using functions from sklearn.metrics.\\n\\nWe can replace the example values (y_true_classification,\\ny_pred_classification, y_true_regression, y_pred_regression) \\nwith your own data to calculate these metrics for your specific\\nclassification and regression tasks.'"
      ]
     },
     "execution_count": 3,
     "metadata": {},
     "output_type": "execute_result"
    }
   ],
   "source": [
    "'''In this code:\n",
    "\n",
    "For classification, we calculate accuracy, precision, recall\n",
    ", and F1 score using functions from sklearn.metrics.\n",
    "\n",
    "For regression, we calculate mean absolute error (MAE),\n",
    "mean squared error (MSE), root mean squared error (RMSE),\n",
    "and R-squared (R^2) using functions from sklearn.metrics.\n",
    "\n",
    "We can replace the example values (y_true_classification,\n",
    "y_pred_classification, y_true_regression, y_pred_regression) \n",
    "with your own data to calculate these metrics for your specific\n",
    "classification and regression tasks.'''"
   ]
  },
  {
   "cell_type": "code",
   "execution_count": null,
   "id": "f9d6541a",
   "metadata": {},
   "outputs": [],
   "source": []
  }
 ],
 "metadata": {
  "kernelspec": {
   "display_name": "Python 3 (ipykernel)",
   "language": "python",
   "name": "python3"
  },
  "language_info": {
   "codemirror_mode": {
    "name": "ipython",
    "version": 3
   },
   "file_extension": ".py",
   "mimetype": "text/x-python",
   "name": "python",
   "nbconvert_exporter": "python",
   "pygments_lexer": "ipython3",
   "version": "3.10.13"
  }
 },
 "nbformat": 4,
 "nbformat_minor": 5
}
